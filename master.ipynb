{
 "cells": [
  {
   "cell_type": "code",
   "execution_count": 1,
   "metadata": {},
   "outputs": [
    {
     "name": "stdout",
     "output_type": "stream",
     "text": [
      "9\n"
     ]
    }
   ],
   "source": [
    "def gcd(a,b):\n",
    "    if a<b:\n",
    "        a,b =b,a\n",
    "    if a%b==0:\n",
    "        return b\n",
    "    else:\n",
    "        return gcd(b,a%b)\n",
    "print(gcd(153,27))"
   ]
  },
  {
   "cell_type": "code",
   "execution_count": 2,
   "metadata": {},
   "outputs": [
    {
     "name": "stdout",
     "output_type": "stream",
     "text": [
      "Total employees: 4\n",
      "Male count: 2\n",
      "Female count: 2\n",
      "Employees with salary above 10000:\n",
      "John Doe\n",
      "Jane Smith\n",
      "Mike Johnson\n",
      "Assistant Managers:\n",
      "Jane Smith\n",
      "Mike Johnson\n"
     ]
    }
   ],
   "source": [
    "    \n",
    "class Employee:\n",
    "    total_employees = 0\n",
    "    male_count = 0\n",
    "    female_count = 0\n",
    "    salary_above_10000 = []\n",
    "    assistant_managers = []\n",
    "\n",
    "    def __init__(self, name, designation, gender, date_of_joining, salary):\n",
    "        self.name = name\n",
    "        self.designation = designation\n",
    "        self.gender = gender\n",
    "        self.date_of_joining = date_of_joining\n",
    "        self.salary = salary\n",
    "        Employee.total_employees += 1\n",
    "\n",
    "        if gender == 'Male':\n",
    "            Employee.male_count += 1\n",
    "        elif gender == 'Female':\n",
    "            Employee.female_count += 1\n",
    "\n",
    "        if salary > 10000:\n",
    "            Employee.salary_above_10000.append(self)\n",
    "\n",
    "        if designation == 'Asst Manager':\n",
    "            Employee.assistant_managers.append(self)\n",
    "\n",
    "# Create employee objects\n",
    "emp1 = Employee(\"John Doe\", \"Manager\", \"Male\", \"2020-01-01\", 15000)\n",
    "emp2 = Employee(\"Jane Smith\", \"Asst Manager\", \"Female\", \"2020-02-01\", 12000)\n",
    "emp3 = Employee(\"Mike Johnson\", \"Asst Manager\", \"Male\", \"2020-03-01\", 11000)\n",
    "emp4 = Employee(\"Emily Davis\", \"Clerk\", \"Female\", \"2020-04-01\", 8000)\n",
    "\n",
    "# Access computed information\n",
    "total_employees = Employee.total_employees\n",
    "male_count = Employee.male_count\n",
    "female_count = Employee.female_count\n",
    "salary_above_10000 = Employee.salary_above_10000\n",
    "assistant_managers = Employee.assistant_managers\n",
    "\n",
    "# Print results\n",
    "print(\"Total employees:\", total_employees)\n",
    "print(\"Male count:\", male_count)\n",
    "print(\"Female count:\", female_count)\n",
    "print(\"Employees with salary above 10000:\")\n",
    "for employee in salary_above_10000:\n",
    "    print(employee.name)\n",
    "print(\"Assistant Managers:\")\n",
    "for employee in assistant_managers:\n",
    "    print(employee.name)"
   ]
  },
  {
   "cell_type": "code",
   "execution_count": 2,
   "metadata": {},
   "outputs": [
    {
     "name": "stdout",
     "output_type": "stream",
     "text": [
      "Conversion:0\n"
     ]
    }
   ],
   "source": [
    "n = str(input(\"Enter a binary number: \"))\n",
    "binary = n.split()\n",
    "binary.reverse()\n",
    "Sum = 0\n",
    "for i in range(len(binary)):\n",
    "    if binary[i]=='1':\n",
    "        Sum += 2**i\n",
    "print(f\"Conversion:{Sum}\")"
   ]
  },
  {
   "cell_type": "code",
   "execution_count": 3,
   "metadata": {},
   "outputs": [
    {
     "name": "stdout",
     "output_type": "stream",
     "text": [
      "Ryder Nigga\n"
     ]
    }
   ],
   "source": [
    "print(\"Ryder Nigga\")"
   ]
  },
  {
   "cell_type": "code",
   "execution_count": null,
   "metadata": {},
   "outputs": [],
   "source": []
  }
 ],
 "metadata": {
  "kernelspec": {
   "display_name": "Python 3",
   "language": "python",
   "name": "python3"
  },
  "language_info": {
   "codemirror_mode": {
    "name": "ipython",
    "version": 3
   },
   "file_extension": ".py",
   "mimetype": "text/x-python",
   "name": "python",
   "nbconvert_exporter": "python",
   "pygments_lexer": "ipython3",
   "version": "3.11.4"
  },
  "orig_nbformat": 4
 },
 "nbformat": 4,
 "nbformat_minor": 2
}
